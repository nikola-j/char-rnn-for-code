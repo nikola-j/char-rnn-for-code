{
 "cells": [
  {
   "cell_type": "code",
   "execution_count": 1,
   "metadata": {
    "scrolled": true
   },
   "outputs": [
    {
     "name": "stderr",
     "output_type": "stream",
     "text": [
      "/usr/lib/python3.5/importlib/_bootstrap.py:222: RuntimeWarning: numpy.dtype size changed, may indicate binary incompatibility. Expected 96, got 88\n",
      "  return f(*args, **kwds)\n",
      "Using TensorFlow backend.\n",
      "/usr/lib/python3.5/importlib/_bootstrap.py:222: RuntimeWarning: numpy.dtype size changed, may indicate binary incompatibility. Expected 96, got 88\n",
      "  return f(*args, **kwds)\n",
      "/usr/lib/python3.5/importlib/_bootstrap.py:222: RuntimeWarning: numpy.dtype size changed, may indicate binary incompatibility. Expected 96, got 88\n",
      "  return f(*args, **kwds)\n"
     ]
    }
   ],
   "source": [
    "from sample import SampleClass\n",
    "import numpy as np"
   ]
  },
  {
   "cell_type": "code",
   "execution_count": 2,
   "metadata": {
    "scrolled": true
   },
   "outputs": [],
   "source": [
    "sample_class = SampleClass(\"model/weights.01-0.88.hdf5\")"
   ]
  },
  {
   "cell_type": "code",
   "execution_count": null,
   "metadata": {},
   "outputs": [
    {
     "data": {
      "application/vnd.jupyter.widget-view+json": {
       "model_id": "29b99b258bae42d0813a8ba0e2184f0b",
       "version_major": 2,
       "version_minor": 0
      },
      "text/plain": [
       "HBox(children=(IntProgress(value=0, max=3), HTML(value='')))"
      ]
     },
     "metadata": {},
     "output_type": "display_data"
    }
   ],
   "source": [
    "print(sample_class.sample(num_chars=100, seed=\"parser = argpa\", greedy=False, eos=\"nika\"))"
   ]
  },
  {
   "cell_type": "code",
   "execution_count": 12,
   "metadata": {
    "scrolled": false
   },
   "outputs": [
    {
     "name": "stdout",
     "output_type": "stream",
     "text": [
      "[81, 66, 83, 84, 70, 83, 1, 30, 1, 66, 83, 72, 84, 15, 72, 70, 85, 9, 8, 66, 83, 72, 84, 8, 13, 1, 8, 8, 10, 1, 37, 36, 47, 45, 1, 37, 36, 52, 49, 1, 83, 70, 85, 86, 83, 79, 1, 9, 8, 6, 84, 9, 6, 84, 10, 8, 1, 6, 1, 9, 84, 70, 77, 71, 15, 64, 64, 68, 77, 66, 84, 84, 64, 64, 15, 64, 64, 79, 66, 78, 70, 64, 64, 13, 1, 84, 70, 77, 71, 15, 64, 64, 68, 77, 66, 84, 84, 64, 64, 15, 64, 64, 79, 66, 78, 70, 64, 64, 13, 1, 84, 70, 77, 71, 15, 64, 64, 68, 77, 66, 84, 84, 64, 64, 15, 64, 64, 79, 66, 78, 70, 64, 64, 10, 10, 0, 70, 85, 85, 70, 83, 9, 8, 84, 70, 79, 69, 64, 80, 71, 71, 84, 70, 85, 8, 10, 0, 70, 67, 84, 80, 68, 76, 70, 85, 52, 70, 83, 87, 70, 83, 9, 84, 70, 77, 71, 15, 84, 70, 83, 87, 70, 83, 64, 74, 69, 10, 1, 37, 36, 47, 45, 1, 37, 36, 52, 49, 1, 84, 70, 77, 71, 15, 66, 84, 84, 70, 83, 85, 38, 82, 86, 66, 77, 9, 84, 70, 77, 71, 15, 84, 70, 83, 87, 70, 83, 15, 84, 70, 83, 87, 70, 83, 64, 84, 70, 83, 87, 70, 83, 15, 84, 70, 83, 87, 70, 83, 64, 84, 70, 83, 87, 70, 83, 15, 84, 70, 83, 87, 70, 83, 64, 84, 70, 83, 87, 70, 83, 15, 84, 70, 83, 87, 70, 83, 64, 84, 70, 83, 87, 70, 83, 64, 84, 70, 83, 87, 70, 83, 15, 84, 70, 83, 87, 70, 83, 64, 84, 70, 83, 87, 70, 83, 64, 84, 85, 66, 85, 86, 84, 13, 1, 84, 70, 77, 71, 15, 84, 70, 83, 87, 70, 83, 64, 84, 85, 66, 85, 86, 84, 64, 68, 80, 69, 70, 10, 0, 1, 37, 36, 52, 49, 1, 84, 70, 83, 87, 70, 83, 64, 74, 69, 8, 10, 0, 70, 85, 34, 68, 85, 74, 80, 79, 9, 84, 70, 77, 71, 15, 84, 70, 83, 87, 70, 83, 64, 74, 69, 10, 0, 83, 15, 66, 69, 69, 64, 66, 69, 69, 83, 70, 84, 84, 9, 84, 70, 77, 71, 15, 66, 69, 69, 83, 70, 84, 84, 10, 1, 37, 36, 47, 45, 1, 37, 36, 52, 49, 1, 84, 70, 77, 71, 15, 66, 84, 84, 70, 83, 85, 38, 82, 86, 66, 77, 9, 84, 70, 77, 71, 15, 66, 69, 69, 83, 70, 84, 84, 64, 85, 80, 64, 69, 66, 85, 66, 13, 1, 84, 70, 77, 71, 15, 66, 69, 69, 83, 70, 84, 84, 64, 85, 80, 64, 69, 66, 85, 66, 60, 8, 74, 69, 8, 62, 10, 0, 1, 37, 36, 52, 49, 1, 84, 70, 77, 71, 15, 64, 85, 70, 84, 85, 64, 68, 83, 70, 66, 85, 70, 64, 84, 70, 83, 87, 74, 68, 70, 64, 68, 80, 79, 79, 70, 68, 85, 74, 80, 79, 9, 8, 84, 70, 83, 87, 70, 83, 84, 8, 13, 1, 8, 84, 70, 83, 87, 70, 83, 8, 13, 1, 8, 84, 70, 83, 87, 70, 83, 8, 13, 1, 8, 84, 70, 83, 87, 70, 83, 8, 13, 1, 8, 84, 70, 83, 87, 70, 83, 8, 13, 1, 8, 84, 70, 83, 87, 70, 83, 8, 13, 1, 8, 84, 70, 83, 87, 70, 83, 8, 13, 1, 8, 84, 70, 83, 87, 70, 83, 8, 13, 1, 8, 84, 70, 83, 87, 70, 83, 8, 13, 1, 8, 84, 70, 83, 87, 70, 83, 8, 13, 1, 8, 84, 70, 83, 87, 70, 83, 8, 13, 1, 8, 84, 70, 83, 87, 70, 83, 8, 13, 1, 8, 84, 70, 83, 87, 70, 83, 8, 13, 1, 8, 84, 70, 83, 87, 70, 83, 8, 13, 1, 8, 84, 70, 83, 87, 70, 83, 8, 13, 1, 8, 84, 70, 83, 87, 70, 83, 8, 13, 1, 8, 84, 70, 83, 87, 70, 83, 8, 13, 1, 8, 84, 70, 83, 87, 70, 83, 8, 13, 1, 8, 84, 70, 83, 87, 70, 83, 8, 13, 1, 8, 84, 70, 83, 87, 70, 83, 8, 13, 1, 8, 84, 70, 83, 87, 70, 83, 8, 13, 1, 8, 84, 70, 83, 87, 70, 83, 8, 13, 1, 8, 84, 70, 83, 87, 70, 83, 8, 13, 1, 8, 84, 70, 83, 87, 70, 83, 8, 13, 1, 8, 84, 70, 83, 87, 70, 83, 8, 13, 1, 8, 84, 70, 83, 87, 70, 83, 8, 13, 1, 8, 84, 70, 83, 87, 70, 83, 8, 13, 1, 8, 84, 70, 83, 87, 70, 83, 8, 13, 1, 8, 84, 70, 83, 87, 70, 83, 8, 13, 1, 8, 84, 70, 83, 87, 70, 83, 8, 13, 1, 8, 84, 70, 83, 87, 70, 83, 8, 13, 1, 8, 84, 70, 83, 87, 70, 83, 8, 13, 1, 8, 84, 70, 83, 87, 70, 83, 8, 13, 1, 8, 84, 70, 83, 87, 70, 83, 8, 13, 1, 8, 84, 70, 83, 87, 70, 83, 8, 13, 1, 8, 84, 85, 66, 85, 86, 84, 8, 13, 1, 8, 84, 85, 66, 85, 86, 84, 8, 13, 1, 8, 84, 85, 66, 85, 86, 84, 8, 13, 1, 8, 84, 85, 66, 85, 86, 84, 8, 13, 1, 8, 84, 85, 66, 85, 86, 84, 8, 13, 1, 8, 84, 85, 66, 85, 86, 84, 8, 13, 1, 8, 84, 85, 66, 85, 86, 84, 8, 13, 1, 8, 84, 85, 66, 85, 86, 84, 8, 13, 1, 8, 84, 85, 66, 85, 86, 84, 64, 68, 80, 69, 70, 8, 13, 1, 8, 84, 85, 66, 85, 86, 84, 64, 68, 80, 69, 70, 8, 13, 1, 8, 68, 80, 79, 85, 70, 79, 85, 14, 85, 90, 81, 70, 8, 13, 1, 8, 85, 70, 89, 85, 8, 10]\n",
      "parser = args.get('args', '') \n",
      "      return ('%s(%s)' % (self.__class__.__name__, self.__class__.__name__, self.__class__.__name__))\n",
      "\n",
      "\n",
      "etter('send_offset')\n",
      "\n",
      "\n",
      "ebsocketServer(self.server_id) \n",
      "      self.assertEqual(self.server.server_server.server_server.server_server.server_server_server.server_server_status, self.server_status_code)\n",
      "\n",
      "\n",
      "      server_id')\n",
      "\n",
      "\n",
      "etAction(self.server_id)\n",
      "\n",
      "\n",
      "r.add_address(self.address) \n",
      "      self.assertEqual(self.address_to_data, self.address_to_data['id'])\n",
      "\n",
      "\n",
      "      self._test_create_service_connection('servers', 'server', 'server', 'server', 'server', 'server', 'server', 'server', 'server', 'server', 'server', 'server', 'server', 'server', 'server', 'server', 'server', 'server', 'server', 'server', 'server', 'server', 'server', 'server', 'server', 'server', 'server', 'server', 'server', 'server', 'server', 'server', 'server', 'server', 'server', 'status', 'status', 'status', 'status', 'status', 'status', 'status', 'status', 'status_code', 'status_code', 'content-type', 'text')\n"
     ]
    }
   ],
   "source": [
    "print(sample_class.sample(seed='parser = arg', num_chars=1000, greedy=True, random=False))"
   ]
  },
  {
   "cell_type": "code",
   "execution_count": null,
   "metadata": {
    "scrolled": true
   },
   "outputs": [],
   "source": [
    "print(sample(MODEL_FILE, 'parser = argp', num_chars=1000, multiple=True, random=True, probs=False).split('\\n')[0])"
   ]
  }
 ],
 "metadata": {
  "kernelspec": {
   "display_name": "Python 3",
   "language": "python",
   "name": "python3"
  },
  "language_info": {
   "codemirror_mode": {
    "name": "ipython",
    "version": 3
   },
   "file_extension": ".py",
   "mimetype": "text/x-python",
   "name": "python",
   "nbconvert_exporter": "python",
   "pygments_lexer": "ipython3",
   "version": "3.5.2"
  }
 },
 "nbformat": 4,
 "nbformat_minor": 1
}
