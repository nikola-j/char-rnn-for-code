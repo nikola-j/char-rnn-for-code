{
 "cells": [
  {
   "cell_type": "markdown",
   "metadata": {},
   "source": [
    "# Uvod\n",
    "\n",
    "Za predviđanje koda se obično koriste semantičke analize programskog jezika koji se koristi uz mnogo pravila koja programeri sami moraju da pišu.\n",
    "\n",
    "U ovom slučaju za pravljenje programa za predviđanje i generaciju koda je korišćena rekurentna neuralna mreža sa velikim brojem parametara koja je istrenirana nad oko 400MB python koda koji se može naći [ovde](https://github.com/EdinburghNLP/code-docstring-corpus). \n",
    "\n",
    "Nisu korišćena nikakva pravila i ovaj sistem je generalan u smislu da bi mogao da nauči da predviđa i generiše bilo koji tekst.\n",
    "\n",
    "Nešto više o rekurentnim neuralnim mrežama se može videti [ovde](http://karpathy.github.io/2015/05/21/rnn-effectiveness/), pri dnu stranice imaju jako zanimljivi primeri korišćenja ovakvog sistema (generacija šekspira, knjige iz matematike i C koda)\n",
    "\n",
    "Izvorni kod se može naći [ovde](https://github.com/nikola-j/char-rnn-for-code)"
   ]
  },
  {
   "cell_type": "code",
   "execution_count": 1,
   "metadata": {
    "scrolled": true
   },
   "outputs": [
    {
     "name": "stderr",
     "output_type": "stream",
     "text": [
      "Using TensorFlow backend.\n"
     ]
    }
   ],
   "source": [
    "from sample import SampleClass\n",
    "import numpy as np"
   ]
  },
  {
   "cell_type": "code",
   "execution_count": 2,
   "metadata": {
    "scrolled": true
   },
   "outputs": [],
   "source": [
    "sample_class = SampleClass(\"weights.01-0.88.hdf5\")"
   ]
  },
  {
   "cell_type": "markdown",
   "metadata": {},
   "source": [
    "Kada smo učitali potrebne težine neuralne mreze možemo da pocnemo da generišemo kod"
   ]
  },
  {
   "cell_type": "markdown",
   "metadata": {},
   "source": [
    "U sledećoj liniji generišemo 3 najverovatnija završetka započete linije korišćenjem beam search odabira karaktera:"
   ]
  },
  {
   "cell_type": "code",
   "execution_count": 3,
   "metadata": {},
   "outputs": [
    {
     "name": "stdout",
     "output_type": "stream",
     "text": [
      "parser = argparse.ArgumentParser() \n",
      "parser = argparse.ArgumentParser(args) \n",
      "parser = argparse.ArgumentParser(args=['--parameter']) \n",
      "\n"
     ]
    }
   ],
   "source": [
    "print(sample_class.sample(num_chars=100, seed=\"parser = argp\", greedy=False))"
   ]
  },
  {
   "cell_type": "markdown",
   "metadata": {},
   "source": [
    "Kao što se može videti 1. predlog je definitivno na mestu"
   ]
  },
  {
   "cell_type": "markdown",
   "metadata": {},
   "source": [
    "Sada pokušavamo završiti jako čestu liniju koriscenjem greedy odabira karaktera:"
   ]
  },
  {
   "cell_type": "code",
   "execution_count": 5,
   "metadata": {
    "scrolled": false
   },
   "outputs": [
    {
     "name": "stdout",
     "output_type": "stream",
     "text": [
      "for i in self.set_status_status_status_status_code(self.context)): \n",
      "            return self.context.get('c\n"
     ]
    }
   ],
   "source": [
    "print(sample_class.sample(seed='for i in ', num_chars=100, greedy=True, random=False))"
   ]
  },
  {
   "cell_type": "markdown",
   "metadata": {},
   "source": [
    "Ukoliko ispišemo verovatnoće sledećih karaktera, možemo videti da mreža nije bila sigurna koji karakter ide posle `for i in ` stoga kada je izabrala najverovatniji karakter `s` ona je samo nastavila u tom smeru"
   ]
  },
  {
   "cell_type": "code",
   "execution_count": 10,
   "metadata": {},
   "outputs": [
    {
     "name": "stdout",
     "output_type": "stream",
     "text": [
      "  -,   -,   -,   -,   -,   -,   -,   -,   -, 0.1, 0.8, 0.9, 0.9, 0.9, 0.1, 0.2, 0.2, 0.4, 0.1, 0.3, 0.7, 0.7, 0.6\n",
      "  f,   o,   r,    ,   i,    ,   i,   n,    ,   s,   e,   l,   f,   .,   s,   e,   t,   _,   s,   t,   a,   t,   u\n",
      "for i in self.set_statu\n"
     ]
    }
   ],
   "source": [
    "print(sample_class.sample(seed='for i in ', num_chars=14, greedy=True, random=False, probs=True))"
   ]
  },
  {
   "cell_type": "markdown",
   "metadata": {},
   "source": [
    "Problem je u tome što greedy uvek bira najveću verovatnoću sledećeg karaktera ne uzimajući u obzir koja je verovatnoća cele rečenice, ukoliko probamo istu stvar uz pomoc beam search-a onda to radi mnogo bolje:"
   ]
  },
  {
   "cell_type": "code",
   "execution_count": 6,
   "metadata": {
    "scrolled": true
   },
   "outputs": [
    {
     "name": "stdout",
     "output_type": "stream",
     "text": [
      "for i in range(10): \n",
      "for i in range(1000): \n",
      "for i in range(len(self.seq)): \n",
      "\n"
     ]
    }
   ],
   "source": [
    "print(sample_class.sample(seed='for i in ', num_chars=100, greedy=False))"
   ]
  },
  {
   "cell_type": "markdown",
   "metadata": {},
   "source": [
    "Takodje možemo generisati u potpunosti nasumican python kod, svakim pokretanjem se dobija novi:"
   ]
  },
  {
   "cell_type": "code",
   "execution_count": 9,
   "metadata": {},
   "outputs": [
    {
     "name": "stdout",
     "output_type": "stream",
     "text": [
      ", 123456, handle_error=True) \n",
      "      return\n",
      "\n",
      "\n",
      "e \n",
      "            pass \n",
      "      else: \n",
      "            self.addCleanup(path.append)\n",
      "\n",
      "\n",
      "CSP       for ret in self.sparg_data.iteritems(): \n",
      "                  obs('round') \n",
      "      stdout = stdout.read() \n",
      "      hist_reads = self.sport_quotas.getstyle(ofp) \n",
      "      return np.random.randn(10, warning_output=weight_scoped, **kwargs)\n",
      "\n",
      "\n",
      " if PATH: \n",
      "            self.scopes(self.config)\n",
      "\n",
      "\n",
      "ravusion.setState(DEVICE, other)\n",
      "\n",
      "\n",
      "P (not isinstance(value, str, BytesI\n",
      "3', [[False, False]]]\n",
      "\n",
      "\n",
      "alseDataError(num) \n",
      "      eq_(self.m15, self.missing)\n",
      "\n",
      "\n",
      " = MockLoggedConsole_number(enabled=True) \n",
      "      expected = pd.Mock() \n",
      "      self.assertIsNone(exc_) \n",
      "      self.assertEqual(entry) \n",
      "      self.assertEqual(error, expected) \n",
      "      expected = object_form._traceback.io_exists() \n",
      "      self.assertEqual(expected, exceptions.EnumerateExists, expected)\n",
      "\n",
      "\n",
      "') \n",
      "      mpd = FakeObjsscore(logging.IDSVRlens) \n",
      "      san_extended_configuration.addValue(cmd) DC\n",
      "arams): \n",
      "            self._protoContext.update([map(object._returncode, importError) for (attr, context) in children]) \n",
      "            raise ExceptionError('expected      group')\n",
      "\n",
      "\n",
      "andwidth_affinity = True \n",
      "      atticked = self.driver.create_addon(self.template, self.domain_id, admin_comments=True) \n",
      "      mock_command.return_value = True \n",
      "      self.assertEqual(1, address_command)\n",
      "\n",
      "\n",
      "= context'\n",
      "\n",
      "\n",
      "IMA') \n",
      "      return after_login.stack('Multipart', samples)\n",
      "\n",
      "\n",
      "\n",
      "\n",
      "\n",
      " \n",
      "                  return \n",
      "INDS_KEY_COOKIEV_{%', tree}: \n",
      "            while (dum is None): \n",
      "                  try: \n",
      "                        return super(name, self).get(link) \n",
      "            except: \n",
      "                  print('children      checksys!') \n",
      "            return None \n",
      "      else: \n",
      "            defaults.append(self.index) \n",
      "      else: \n",
      "            name = data.get('name', 'many_text') \n",
      "            result = [] \n",
      "            if (region is not None): \n",
      "                  name = today.run(\n",
      "\\%+p') \n",
      "            fh.StringOptionable(self.bench_page_size, 0) \n",
      "      self.now_flag = Direction(self._float_locked_norm_sigzer) \n",
      "      self.old_debug = self._tensor_collector_queue(request)\n",
      "\n",
      "\n",
      "_backendserver_handler.XMLServer.CSP expected = [{'actual': 'slice.plot', 'someClass': 'queue:', 'mapper': {'value': '..'etag', 'allBuffer': 0, 'isource-remove': True}}, {'foo': 'bar'}, {'value': ''}, {}, {'type': 'token'}} \n",
      "      for count in content: \n",
      "            currTonf.choice = False DCN\n"
     ]
    }
   ],
   "source": [
    "for i in range(5):\n",
    "    print(sample_class.sample(seed='', num_chars=500, greedy=True, random=True))"
   ]
  },
  {
   "cell_type": "markdown",
   "metadata": {},
   "source": [
    "Za generisanje random python koda se moze koristiti i beam search ali je on dosta spor ukoliko je generisani kod dugacak i rekao bih da kod ne izgleda toliko realno."
   ]
  },
  {
   "cell_type": "code",
   "execution_count": 5,
   "metadata": {},
   "outputs": [
    {
     "name": "stdout",
     "output_type": "stream",
     "text": [
      "error() \n",
      "      self.assertEerror() \n",
      "      return self.error() \n",
      "      self.assertT\n",
      "---------------------\n",
      "return self._callback \n",
      " DCSreturn self._callbacks.append(return self._callbacks[0]\n",
      "\n",
      "\n",
      "L DC\n",
      "---------------------\n",
      "                                    self.assertEqual(len(sel      self.assertEqual(self.co\n",
      "---------------------\n",
      "args' \n",
      "      else: \n",
      " DCSargs' \n",
      "      return self.__args' \n",
      "      return self._c\n",
      "---------------------\n",
      "ENTITY_STATUS)\n",
      "\n",
      "\n",
      "      return seENTITY_STATUS)\n",
      "\n",
      "\n",
      "      self.asseENTITY_STATUS)\n",
      "\n",
      "\n",
      "      return ('\n",
      "---------------------\n"
     ]
    }
   ],
   "source": [
    "for i in range(5):\n",
    "    print(sample_class.sample(seed='', num_chars=30, greedy=False, eos=\"nema\"))\n",
    "    print(\"---------------------\")"
   ]
  },
  {
   "cell_type": "markdown",
   "metadata": {},
   "source": [
    "Ovo je sve izgenerisano uz pomoc modela koji se trenirao oko 3 noci na mojoj kucnoj grafickoj kartici, ukoliko bi bio koriscen jaci hardver, bilo bi moguce istrenirati jos bolji model koji generise realniji kod."
   ]
  }
 ],
 "metadata": {
  "kernelspec": {
   "display_name": "venv",
   "language": "python",
   "name": "venv"
  },
  "language_info": {
   "codemirror_mode": {
    "name": "ipython",
    "version": 3
   },
   "file_extension": ".py",
   "mimetype": "text/x-python",
   "name": "python",
   "nbconvert_exporter": "python",
   "pygments_lexer": "ipython3",
   "version": "3.6.6"
  }
 },
 "nbformat": 4,
 "nbformat_minor": 1
}
